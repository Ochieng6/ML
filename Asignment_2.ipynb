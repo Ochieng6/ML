{
  "nbformat": 4,
  "nbformat_minor": 0,
  "metadata": {
    "colab": {
      "provenance": [],
      "authorship_tag": "ABX9TyPyqnjJWZo5uzMEq66nzZny",
      "include_colab_link": true
    },
    "kernelspec": {
      "name": "python3",
      "display_name": "Python 3"
    },
    "language_info": {
      "name": "python"
    }
  },
  "cells": [
    {
      "cell_type": "markdown",
      "metadata": {
        "id": "view-in-github",
        "colab_type": "text"
      },
      "source": [
        "<a href=\"https://colab.research.google.com/github/Ochieng6/ML/blob/main/Asignment_2.ipynb\" target=\"_parent\"><img src=\"https://colab.research.google.com/assets/colab-badge.svg\" alt=\"Open In Colab\"/></a>"
      ]
    },
    {
      "cell_type": "code",
      "source": [
        "import pandas as pd\n",
        "from sklearn.model_selection import train_test_split\n",
        "from sklearn.ensemble import RandomForestRegressor\n",
        "from sklearn.tree import DecisionTreeRegressor\n",
        "from sklearn.metrics import mean_squared_error\n",
        "\n",
        "# Load the dataset\n",
        "df = pd.read_csv('/content/real estate.csv')\n",
        "\n",
        "# Assuming the target variable is named 'Y house price of unit area', and features are other columns\n",
        "X = df.drop('Y house price of unit area', axis=1)\n",
        "y = df['Y house price of unit area']\n",
        "\n",
        "# Split the dataset into training and testing sets\n",
        "X_train, X_test, y_train, y_test = train_test_split(X, y, test_size=0.3, random_state=42)\n",
        "\n",
        "# Random Forest Regressor\n",
        "rf_regressor = RandomForestRegressor(n_estimators=100)\n",
        "rf_regressor.fit(X_train, y_train)\n",
        "y_pred_rf = rf_regressor.predict(X_test)\n",
        "rf_mse = mean_squared_error(y_test, y_pred_rf)\n",
        "print(\"Random Forest Regressor Mean Squared Error:\", rf_mse)\n",
        "\n",
        "# Decision Tree Regressor\n",
        "dt_regressor = DecisionTreeRegressor()\n",
        "dt_regressor.fit(X_train, y_train)\n",
        "y_pred_dt = dt_regressor.predict(X_test)\n",
        "dt_mse = mean_squared_error(y_test, y_pred_dt)\n",
        "print(\"Decision Tree Regressor Mean Squared Error:\", dt_mse)\n",
        "\n",
        "# Comparing the performances of the two classifiers\n",
        "\n",
        "if rf_mse < dt_mse:\n",
        "    print(\"Random Forest Regressor performs better.\")\n",
        "elif rf_mse > dt_mse:\n",
        "    print(\"Decision Tree Regressor performs better.\")\n",
        "else:\n",
        "    print(\"Both regressors perform equally well.\")\n",
        "\n"
      ],
      "metadata": {
        "colab": {
          "base_uri": "https://localhost:8080/"
        },
        "id": "jDALReC9dkJt",
        "outputId": "dcfde326-fb0b-46da-ce12-0937c3895d5a"
      },
      "execution_count": 16,
      "outputs": [
        {
          "output_type": "stream",
          "name": "stdout",
          "text": [
            "Random Forest Regressor Mean Squared Error: 43.385644527999986\n",
            "Decision Tree Regressor Mean Squared Error: 78.43888000000001\n",
            "Random Forest Regressor performs better.\n"
          ]
        }
      ]
    }
  ]
}